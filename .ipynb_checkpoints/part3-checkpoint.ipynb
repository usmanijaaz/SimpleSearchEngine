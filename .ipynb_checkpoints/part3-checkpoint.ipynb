{
 "cells": [
  {
   "cell_type": "code",
   "execution_count": 8,
   "metadata": {},
   "outputs": [],
   "source": [
    "def doconly(input_doc):\n",
    "    docname=input_doc\n",
    "    #removing exyension\n",
    "    if \".txt\" in input_doc:\n",
    "        \n",
    "        len = len(input_doc)\n",
    "        docname = input_doc[:len-4]\n",
    "        \n",
    "    matched_doc_name =None\n",
    "    matched_doc_id = None\n",
    "    \n",
    "    #directory +'\\\\docids.txt'\n",
    "    with open('docids.txt', 'r', encoding='utf-8', errors='backslashreplace') as file:\n",
    "            while matched_doc_id==None:\n",
    "                row=file.readline()\n",
    "                  \n",
    "                if docname in row:\n",
    "                    \n",
    "                    split_line = row.split('\\t')\n",
    "                    matched_doc_id = int(split_line[0])\n",
    "                    matched_doc_name = str(split_line[1]).split('\\n')[0]\n",
    "                    \n",
    "          \n",
    "    total_terms = 0\n",
    "    unique_terms = 0\n",
    "    \n",
    "    #directory+'\\\\doc_index.txt'\n",
    "    with open('doc_index.txt', 'r', encoding='utf-8', errors='backslashreplace') as file2:\n",
    "        line=file2.readline()\n",
    "        split_line = line.split('\\t')\n",
    "        doc_curr = int(split_line[0])\n",
    "                \n",
    "        while matched_doc_id>=doc_curr:\n",
    "                \n",
    "                line1=file2.readline()\n",
    "                split_line1 = line1.split('\\t')\n",
    "                doc_curr = int(split_line1[0])\n",
    "                if matched_doc_id==doc_curr:\n",
    "                    \n",
    "                    \n",
    "                    \n",
    "                    term_id = int(split_line1[1])\n",
    "                    frequency = int(split_line1[2])\n",
    "              \n",
    "                    unique_terms += 1 \n",
    "                \n",
    "               \n",
    "                    total_terms += frequency\n",
    "              \n",
    "        print (\"Listing for document: \", matched_doc_name) \n",
    "        print (\"DOCID: \", matched_doc_id) \n",
    "        print (\"Distinct terms: \", unique_terms)\n",
    "        print (\"Total terms: \", total_terms)"
   ]
  },
  {
   "cell_type": "code",
   "execution_count": 4,
   "metadata": {},
   "outputs": [
    {
     "ename": "SyntaxError",
     "evalue": "unexpected EOF while parsing (<ipython-input-4-5f4194bcd606>, line 18)",
     "output_type": "error",
     "traceback": [
      "\u001b[1;36m  File \u001b[1;32m\"<ipython-input-4-5f4194bcd606>\"\u001b[1;36m, line \u001b[1;32m18\u001b[0m\n\u001b[1;33m    \u001b[0m\n\u001b[1;37m    ^\u001b[0m\n\u001b[1;31mSyntaxError\u001b[0m\u001b[1;31m:\u001b[0m unexpected EOF while parsing\n"
     ]
    }
   ],
   "source": [
    "cout = 'Enter --term TERM ,--doc DOCNAME ,--term TERM --doc DOCNAME: '\n",
    "cin = input(cout)\n",
    "\n",
    "\n",
    "splits = cin.split (' ')\n",
    "input_term = None\n",
    "input_doc = None\n",
    "for i in range (len(splits)):\n",
    "    if (cin[i]=='--term'):\n",
    "        \n",
    "        input_term = commands[i+1]\n",
    "    if (cin[i]=='--doc'):\n",
    "        input_doc = commands[i+1]\n",
    "        \n",
    "        \n",
    "#if only term is input\n",
    "if input_term != None and input_doc == None:\n",
    "    \n"
   ]
  },
  {
   "cell_type": "code",
   "execution_count": 9,
   "metadata": {},
   "outputs": [
    {
     "name": "stdout",
     "output_type": "stream",
     "text": [
      "Listing for document:  clueweb12-0000tw-13-04988\n",
      "DOCID:  1\n",
      "Distinct terms:  151\n",
      "Total terms:  247\n"
     ]
    }
   ],
   "source": [
    "doconly(\"clueweb12-0000tw-13-04988\")\n"
   ]
  },
  {
   "cell_type": "code",
   "execution_count": 2,
   "metadata": {},
   "outputs": [
    {
     "ename": "NameError",
     "evalue": "name 'install' is not defined",
     "output_type": "error",
     "traceback": [
      "\u001b[1;31m---------------------------------------------------------------------------\u001b[0m",
      "\u001b[1;31mNameError\u001b[0m                                 Traceback (most recent call last)",
      "\u001b[1;32m<ipython-input-2-9447b3a6ca8d>\u001b[0m in \u001b[0;36m<module>\u001b[1;34m\u001b[0m\n\u001b[1;32m----> 1\u001b[1;33m \u001b[0minstall\u001b[0m \u001b[1;33m@\u001b[0m\u001b[0mjupyterlab\u001b[0m\u001b[1;33m/\u001b[0m\u001b[0mdebugger\u001b[0m\u001b[1;33m\u001b[0m\u001b[1;33m\u001b[0m\u001b[0m\n\u001b[0m",
      "\u001b[1;31mNameError\u001b[0m: name 'install' is not defined"
     ]
    }
   ],
   "source": [
    " install @jupyterlab/debugger"
   ]
  },
  {
   "cell_type": "code",
   "execution_count": null,
   "metadata": {},
   "outputs": [],
   "source": []
  }
 ],
 "metadata": {
  "kernelspec": {
   "display_name": "Python 3 (ipykernel)",
   "language": "python",
   "name": "python3"
  },
  "language_info": {
   "codemirror_mode": {
    "name": "ipython",
    "version": 3
   },
   "file_extension": ".py",
   "mimetype": "text/x-python",
   "name": "python",
   "nbconvert_exporter": "python",
   "pygments_lexer": "ipython3",
   "version": "3.9.7"
  }
 },
 "nbformat": 4,
 "nbformat_minor": 4
}
