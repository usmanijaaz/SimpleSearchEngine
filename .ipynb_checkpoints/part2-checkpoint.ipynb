{
 "cells": [
  {
   "cell_type": "code",
   "execution_count": 1,
   "metadata": {},
   "outputs": [],
   "source": [
    "def readandpopulate():\n",
    "#file handling    \n",
    "    with open('doc_index.txt', 'r', encoding='utf8', errors='ignore') as f:\n",
    "        rows = f.readlines()\n",
    "#datastructure to store inverted index    \n",
    "    inverted_index_dict={}\n",
    "    \n",
    "    for row in rows:\n",
    "        \n",
    "#fetching data from each row\n",
    "        \n",
    "        columns = row.split('\\t')\n",
    "        \n",
    "        frequency=int(columns[2])\n",
    "        \n",
    "        termid=int(columns[1])\n",
    "        \n",
    "        documentid=int(columns[0])\n",
    "        \n",
    "       \n",
    "  #incase new term occurs that we havenot seen before\n",
    "        if termid in inverted_index_dict:\n",
    "           inverted_index_dict[termid].append((documentid,frequency))\n",
    "        else:\n",
    "            inverted_index_dict[termid]=[(documentid,frequency)]\n",
    "    return inverted_index_dict      "
   ]
  },
  {
   "cell_type": "code",
   "execution_count": 2,
   "metadata": {},
   "outputs": [],
   "source": [
    "def creatingfile(inverted_index_dict,term_index_path):\n",
    "    \n",
    "    #term_index_path=\"term_index.txt\"\n",
    "#writing from  inverted_index_dict to file  \n",
    "    with open(term_index_path, 'a') as file:\n",
    "        for idx, i in  enumerate(inverted_index_dict):\n",
    "            \n",
    "            if (idx+1) > 1:\n",
    "                file.write(\"\\n\")\n",
    "            file.write(str(i))\n",
    "            \n",
    "            for j in  inverted_index_dict[i]:\n",
    "                file.write(\"\\t\"+str(j[0])+\":\"+str(j[1]))  \n",
    "    print(\"inverted index file generated at: \",term_index_path)\n",
    "    "
   ]
  },
  {
   "cell_type": "code",
   "execution_count": 3,
   "metadata": {},
   "outputs": [],
   "source": [
    "def creating_term_info_file():\n",
    "    \n",
    "    term_info_path =\"term_info.txt\"#directory+\"\\\\term_info.txt\"\n",
    "    if os.path.exists(term_info_path):\n",
    "\n",
    "        os.remove(term_info_path)\n",
    "        print(\"file exixts and deleting file\")\n",
    "\n",
    "    #counting total number of lines in file\n",
    "\n",
    "    with open(\"term_index.txt\",'r') as fp:\n",
    "        num_lines = sum(1 for line in fp)\n",
    "\n",
    "\n",
    "    #creating term info-dictionary   \n",
    "    term_info_dict = {}\n",
    "    with open(term_info_path, 'a') as file1:\n",
    "#directory+'\\\\term_index.txt','r'\n",
    "        with open(\"term_index.txt\",'r') as file2:\n",
    "            \n",
    "\n",
    "#alternative of eof()\n",
    "            for i in range(num_lines):\n",
    "                \n",
    "                \n",
    "                total_frequency = 0\n",
    "          #getting offset\n",
    "                offset = file2.tell()\n",
    "                row = file2.readline()\n",
    "          #Splliting phase1\n",
    "                row_split = row.split('\\t')\n",
    "                term_id = row_split[0]\n",
    "                #concatinating the string\n",
    "                finalstr = str(term_id)+'\\t'+str(offset)\n",
    "\n",
    "          #spliiting phase2\n",
    "                for j in range (1,len(row_split)):\n",
    "                    \n",
    "\n",
    "                    doc_frq_pair_split = row_split[j].split(':')\n",
    "                    docid = doc_frq_pair_split[0]\n",
    "                    frequency = doc_frq_pair_split[1]\n",
    "                    total_frequency += int(frequency)\n",
    "                finalstr += '\\t'+str(total_frequency)+'\\t'+str(len(row_split)-1)+'\\n' \n",
    "        #writing to file        \n",
    "                file1.write(finalstr)\n",
    "    print(\"file generated at: \",term_info_path)"
   ]
  },
  {
   "cell_type": "code",
   "execution_count": 5,
   "metadata": {},
   "outputs": [
    {
     "ename": "FileNotFoundError",
     "evalue": "[Errno 2] No such file or directory: ''",
     "output_type": "error",
     "traceback": [
      "\u001b[1;31m---------------------------------------------------------------------------\u001b[0m",
      "\u001b[1;31mFileNotFoundError\u001b[0m                         Traceback (most recent call last)",
      "\u001b[1;32m~\\AppData\\Local\\Temp/ipykernel_22504/1684436624.py\u001b[0m in \u001b[0;36m<module>\u001b[1;34m\u001b[0m\n\u001b[0;32m      1\u001b[0m \u001b[0mtermindexdict\u001b[0m\u001b[1;33m=\u001b[0m\u001b[0mreadandpopulate\u001b[0m\u001b[1;33m(\u001b[0m\u001b[1;33m)\u001b[0m\u001b[1;33m\u001b[0m\u001b[1;33m\u001b[0m\u001b[0m\n\u001b[1;32m----> 2\u001b[1;33m \u001b[0mcreatingfile\u001b[0m\u001b[1;33m(\u001b[0m\u001b[0mtermindexdict\u001b[0m\u001b[1;33m,\u001b[0m\u001b[0mfilename\u001b[0m\u001b[1;33m)\u001b[0m\u001b[1;33m\u001b[0m\u001b[1;33m\u001b[0m\u001b[0m\n\u001b[0m",
      "\u001b[1;32m~\\AppData\\Local\\Temp/ipykernel_22504/2436968819.py\u001b[0m in \u001b[0;36mcreatingfile\u001b[1;34m(inverted_index_dict, term_index_path)\u001b[0m\n\u001b[0;32m      3\u001b[0m     \u001b[1;31m#term_index_path=\"term_index.txt\"\u001b[0m\u001b[1;33m\u001b[0m\u001b[1;33m\u001b[0m\u001b[0m\n\u001b[0;32m      4\u001b[0m \u001b[1;31m#writing from  inverted_index_dict to file\u001b[0m\u001b[1;33m\u001b[0m\u001b[1;33m\u001b[0m\u001b[0m\n\u001b[1;32m----> 5\u001b[1;33m     \u001b[1;32mwith\u001b[0m \u001b[0mopen\u001b[0m\u001b[1;33m(\u001b[0m\u001b[0mterm_index_path\u001b[0m\u001b[1;33m,\u001b[0m \u001b[1;34m'a'\u001b[0m\u001b[1;33m)\u001b[0m \u001b[1;32mas\u001b[0m \u001b[0mfile\u001b[0m\u001b[1;33m:\u001b[0m\u001b[1;33m\u001b[0m\u001b[1;33m\u001b[0m\u001b[0m\n\u001b[0m\u001b[0;32m      6\u001b[0m         \u001b[1;32mfor\u001b[0m \u001b[0midx\u001b[0m\u001b[1;33m,\u001b[0m \u001b[0mi\u001b[0m \u001b[1;32min\u001b[0m  \u001b[0menumerate\u001b[0m\u001b[1;33m(\u001b[0m\u001b[0minverted_index_dict\u001b[0m\u001b[1;33m)\u001b[0m\u001b[1;33m:\u001b[0m\u001b[1;33m\u001b[0m\u001b[1;33m\u001b[0m\u001b[0m\n\u001b[0;32m      7\u001b[0m \u001b[1;33m\u001b[0m\u001b[0m\n",
      "\u001b[1;31mFileNotFoundError\u001b[0m: [Errno 2] No such file or directory: ''"
     ]
    }
   ],
   "source": [
    "termindexdict=readandpopulate()\n",
    "creatingfile(termindexdict,filename)"
   ]
  },
  {
   "cell_type": "code",
   "execution_count": 73,
   "metadata": {},
   "outputs": [
    {
     "name": "stdout",
     "output_type": "stream",
     "text": [
      "file exixts and deleting file\n",
      "term_info.txt file generated at:  term_info.txt\n"
     ]
    }
   ],
   "source": [
    " creating_term_info_file()"
   ]
  },
  {
   "cell_type": "code",
   "execution_count": null,
   "metadata": {},
   "outputs": [],
   "source": []
  },
  {
   "cell_type": "code",
   "execution_count": null,
   "metadata": {},
   "outputs": [],
   "source": []
  }
 ],
 "metadata": {
  "kernelspec": {
   "display_name": "Python 3 (ipykernel)",
   "language": "python",
   "name": "python3"
  },
  "language_info": {
   "codemirror_mode": {
    "name": "ipython",
    "version": 3
   },
   "file_extension": ".py",
   "mimetype": "text/x-python",
   "name": "python",
   "nbconvert_exporter": "python",
   "pygments_lexer": "ipython3",
   "version": "3.9.7"
  }
 },
 "nbformat": 4,
 "nbformat_minor": 4
}
